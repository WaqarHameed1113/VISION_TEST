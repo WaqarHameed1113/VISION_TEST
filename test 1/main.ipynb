{
 "cells": [
  {
   "cell_type": "markdown",
   "metadata": {},
   "source": [
    "# 3D- Rotation & Translation"
   ]
  },
  {
   "cell_type": "code",
   "execution_count": 2,
   "metadata": {},
   "outputs": [],
   "source": [
    "import numpy as np"
   ]
  },
  {
   "cell_type": "markdown",
   "metadata": {},
   "source": [
    "# Rotation Matric\n",
    "The following are the matrix which we utilze for the rotation along x, y, and z axis. below shows its implementation\n",
    "\n",
    "\n",
    "<img src=\"Rotation.jpg\" alt=\"Alt text\" title=\"Rotation Matrix\" />\n",
    "\n",
    "\n"
   ]
  },
  {
   "cell_type": "code",
   "execution_count": 6,
   "metadata": {},
   "outputs": [],
   "source": [
    "def transform(point, translation, rotation):\n",
    "    # convert the angle list into numpy and from Degree to Radian\n",
    "    x_angle = np.deg2rad(rotation[0])\n",
    "    y_angle = np.deg2rad(rotation[1])\n",
    "    z_angle = np.deg2rad(rotation[2])\n",
    "\n",
    "    # Define the rotation matrices\n",
    "    # Rotation Along x-axis\n",
    "    Rx = np.array([[1, 0, 0], [0, np.cos(x_angle), -np.sin(x_angle)], [0, np.sin(x_angle), np.cos(x_angle)]])\n",
    "    # Rotation Along y-axis\n",
    "    Ry = np.array([[np.cos(y_angle), 0, np.sin(y_angle)], [0, 1, 0], [-np.sin(y_angle), 0, np.cos(y_angle)]])\n",
    "    # Rotation Along Z-axis\n",
    "    Rz = np.array([[np.cos(z_angle), -np.sin(z_angle), 0], [np.sin(z_angle), np.cos(z_angle), 0], [0, 0, 1]])\n",
    "\n",
    "    #Here we took Dot product starting from X-axis, Y-axis and Z-axis respectively\n",
    "    #Once We got the cordinate Then We apply Translation as shown below\n",
    "    new_cordinate = Rz.dot(Ry.dot(Rx.dot(point.T)))+ translation.T\n",
    "    return new_cordinate"
   ]
  },
  {
   "cell_type": "markdown",
   "metadata": {},
   "source": [
    "### Rotation & Translation\n",
    "Provide Rotation in degree"
   ]
  },
  {
   "cell_type": "code",
   "execution_count": 5,
   "metadata": {},
   "outputs": [
    {
     "name": "stdout",
     "output_type": "stream",
     "text": [
      "[5.82842712 4.         2.41421356]\n"
     ]
    }
   ],
   "source": [
    "#Point in 3-D Space\n",
    "point = np.array([1,2,3])\n",
    "# Translation \n",
    "translation = np.array([3,2,1])\n",
    "# Rotation X, Y, Z in degree\n",
    "x_y_z_angle =  np.array([0,45,0])\n",
    "#Apply The Transformation\n",
    "new_cord = transform(point,translation,x_y_z_angle)\n",
    "\n",
    "print(new_cord)"
   ]
  },
  {
   "cell_type": "code",
   "execution_count": null,
   "metadata": {},
   "outputs": [],
   "source": []
  }
 ],
 "metadata": {
  "kernelspec": {
   "display_name": "Testing",
   "language": "python",
   "name": "python3"
  },
  "language_info": {
   "codemirror_mode": {
    "name": "ipython",
    "version": 3
   },
   "file_extension": ".py",
   "mimetype": "text/x-python",
   "name": "python",
   "nbconvert_exporter": "python",
   "pygments_lexer": "ipython3",
   "version": "3.7.1"
  }
 },
 "nbformat": 4,
 "nbformat_minor": 2
}
